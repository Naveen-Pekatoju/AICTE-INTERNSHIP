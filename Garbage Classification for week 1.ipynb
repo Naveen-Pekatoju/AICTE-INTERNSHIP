{
 "cells": [
  {
   "cell_type": "code",
   "execution_count": 3,
   "id": "73e30362-a814-4f12-9567-4d0bd2c6be15",
   "metadata": {},
   "outputs": [
    {
     "name": "stdout",
     "output_type": "stream",
     "text": [
      "TensorFlow version: 2.19.0\n"
     ]
    }
   ],
   "source": [
    "import os\n",
    "import numpy as np\n",
    "import matplotlib.pyplot as plt\n",
    "import seaborn as sns\n",
    "\n",
    "import tensorflow as tf\n",
    "from tensorflow.keras import layers, models, callbacks\n",
    "from tensorflow.keras.applications import EfficientNetV2B2\n",
    "\n",
    "from sklearn.utils.class_weight import compute_class_weight\n",
    "from sklearn.metrics import classification_report, confusion_matrix\n",
    "\n",
    "os.environ[\"CUDA_VISIBLE_DEVICES\"] = \"-1\"\n",
    "os.environ[\"TF_ENABLE_ONEDNN_OPTS\"] = \"0\"\n",
    "\n",
    "print(\"TensorFlow version:\", tf.__version__)\n"
   ]
  },
  {
   "cell_type": "code",
   "execution_count": 4,
   "id": "8cf81a52-2e4b-4f92-bc24-f560c77b0d3b",
   "metadata": {},
   "outputs": [],
   "source": [
    "BASE_DIR = \"/home/user/Documents/garbage classification/archive/TrashType_Image_Dataset\"\n",
    "IMG_SIZE = (224, 224)\n",
    "BATCH_SIZE = 16\n",
    "SEED = 123\n"
   ]
  },
  {
   "cell_type": "code",
   "execution_count": 5,
   "id": "66fcecb3-1ea2-485d-9975-e3d38a4ec99a",
   "metadata": {},
   "outputs": [
    {
     "name": "stdout",
     "output_type": "stream",
     "text": [
      "Found 2527 files belonging to 6 classes.\n",
      "Using 2022 files for training.\n",
      "Found 2527 files belonging to 6 classes.\n",
      "Using 505 files for validation.\n",
      "Classes: ['cardboard', 'glass', 'metal', 'paper', 'plastic', 'trash']\n",
      "Final splits → Train: 127 batches, Val: 16 batches, Test: 16 batches\n"
     ]
    },
    {
     "name": "stderr",
     "output_type": "stream",
     "text": [
      "2025-06-22 20:47:57.636742: E external/local_xla/xla/stream_executor/cuda/cuda_platform.cc:51] failed call to cuInit: INTERNAL: CUDA error: Failed call to cuInit: UNKNOWN ERROR (303)\n"
     ]
    }
   ],
   "source": [
    "full_train_ds = tf.keras.utils.image_dataset_from_directory(\n",
    "    BASE_DIR,\n",
    "    validation_split=0.2,\n",
    "    subset=\"training\",\n",
    "    seed=SEED,\n",
    "    image_size=IMG_SIZE,\n",
    "    batch_size=BATCH_SIZE\n",
    ")\n",
    "\n",
    "val_test_ds = tf.keras.utils.image_dataset_from_directory(\n",
    "    BASE_DIR,\n",
    "    validation_split=0.2,\n",
    "    subset=\"validation\",\n",
    "    seed=SEED,\n",
    "    image_size=IMG_SIZE,\n",
    "    batch_size=BATCH_SIZE\n",
    ")\n",
    "\n",
    "class_names = full_train_ds.class_names\n",
    "print(\"Classes:\", class_names)\n",
    "\n",
    "val_test_batches = tf.data.experimental.cardinality(val_test_ds).numpy()\n",
    "val_ds = val_test_ds.take(val_test_batches // 2)\n",
    "test_ds = val_test_ds.skip(val_test_batches // 2)\n",
    "\n",
    "print(f\"Final splits → Train: {tf.data.experimental.cardinality(full_train_ds).numpy()} batches, \"\n",
    "      f\"Val: {tf.data.experimental.cardinality(val_ds).numpy()} batches, \"\n",
    "      f\"Test: {tf.data.experimental.cardinality(test_ds).numpy()} batches\")\n"
   ]
  }
 ],
 "metadata": {
  "kernelspec": {
   "display_name": "Python 3 (ipykernel)",
   "language": "python",
   "name": "python3"
  },
  "language_info": {
   "codemirror_mode": {
    "name": "ipython",
    "version": 3
   },
   "file_extension": ".py",
   "mimetype": "text/x-python",
   "name": "python",
   "nbconvert_exporter": "python",
   "pygments_lexer": "ipython3",
   "version": "3.10.12"
  }
 },
 "nbformat": 4,
 "nbformat_minor": 5
}
